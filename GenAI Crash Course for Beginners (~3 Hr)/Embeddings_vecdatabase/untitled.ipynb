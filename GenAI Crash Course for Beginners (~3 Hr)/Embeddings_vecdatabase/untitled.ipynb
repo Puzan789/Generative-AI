{
 "cells": [
  {
   "cell_type": "code",
   "execution_count": 1,
   "metadata": {},
   "outputs": [],
   "source": [
    "from langchain.document_loaders import TextLoader # To load data from the text file\n"
   ]
  },
  {
   "cell_type": "code",
   "execution_count": 12,
   "metadata": {},
   "outputs": [],
   "source": [
    "loader= TextLoader(\"nv_n.txt\")\n",
    "data=loader.load()"
   ]
  },
  {
   "cell_type": "code",
   "execution_count": 14,
   "metadata": {},
   "outputs": [
    {
     "name": "stdout",
     "output_type": "stream",
     "text": [
      "HITWAN, July 28: The Indian team that came to help search for the two buses and passengers swept away by a landslide into the Trishuli River in Chitwan is set to return home today.\n",
      "\n",
      "The Indian National Disaster Response Force (NDRF), which has been in Nepal for a week, will depart on Sunday, according to the District Administration Office, Chitwan.\n",
      "\n",
      "Since last Sunday, the Indian team has been collaborating with the Armed Police Force (APF)- Nepal and the Nepali Army in search and rescue operations. Despite ongoing efforts, no significant progress has been made to locate the missing buses.\n",
      "\n",
      "Chief District Officer (CDO) of Chitwan, Indradev Yadav, stated that the Indian team is being honored with a thank you note and a review of their efforts. \"In the Security Committee meeting, we expressed our gratitude to the Indian team for their thorough review of the progress, methods, techniques and future possibilities that can be used during their mission. Their contribution to our disaster management and search and rescue operations has been invaluable,\" said CDO Yadav.\n",
      "\n",
      "The Indian team, consisting of 12 members, arrived in Chitwan last Saturday and began operations the following day. Equipped with sonar cameras and magnets, they conducted search and rescue operations in the Trishuli and Narayani rivers. Notably, even a 19 kg magnet brought by the NDRF was swept away by the Trishuli River.\n",
      "\n",
      "On July 12, two buses were swept away by a landslide and fell into the Trishuli River at Simaltal on the Narayanghat-Mugling road. Of the total 65 passengers, three managed to swim to safety, while at least 62 are still missing. To date, the buses remain missing, though 24 bodies have been recovered from the Narayani River to the Gandak Barrage, with only 19 identified so far.\n",
      "{'source': 'nv_n.txt'}\n"
     ]
    }
   ],
   "source": [
    "print(data[0].page_content )\n",
    "print(data[0].metadata )"
   ]
  },
  {
   "cell_type": "code",
   "execution_count": 29,
   "metadata": {},
   "outputs": [],
   "source": [
    "from langchain.document_loaders.csv_loader import CSVLoader # To load data from the csv\n",
    "loader=CSVLoader(\"movies.csv\",source_column=\"Film\")\n",
    "data=loader.load()"
   ]
  },
  {
   "cell_type": "code",
   "execution_count": 30,
   "metadata": {},
   "outputs": [
    {
     "data": {
      "text/plain": [
       "{'source': 'Youth in Revolt', 'row': 1}"
      ]
     },
     "execution_count": 30,
     "metadata": {},
     "output_type": "execute_result"
    }
   ],
   "source": [
    "data[1].metadata "
   ]
  },
  {
   "cell_type": "code",
   "execution_count": 31,
   "metadata": {},
   "outputs": [
    {
     "name": "stdout",
     "output_type": "stream",
     "text": [
      "10\n"
     ]
    }
   ],
   "source": [
    "print(len(data))"
   ]
  },
  {
   "cell_type": "code",
   "execution_count": 32,
   "metadata": {},
   "outputs": [],
   "source": [
    "from langchain.document_loaders import UnstructuredURLLoader\n"
   ]
  },
  {
   "cell_type": "code",
   "execution_count": 34,
   "metadata": {},
   "outputs": [],
   "source": [
    "loader=UnstructuredURLLoader(urls=[\n",
    "    \"https://www.moneycontrol.com/news/india/severe-weather-alert-heavy-rains-to-hit-eight-states-until-august-3-delhi-on-yellow-alert-12780337.html\",\n",
    "    \"https://www.moneycontrol.com/automobile/mitsubishi-motors-joins-honda-nissan-alliance-amidst-major-auto-industry-shift-report-article-12780198.html\"\n",
    "\n",
    "])"
   ]
  },
  {
   "cell_type": "code",
   "execution_count": 35,
   "metadata": {},
   "outputs": [],
   "source": [
    "data=loader.load()"
   ]
  },
  {
   "cell_type": "code",
   "execution_count": 37,
   "metadata": {},
   "outputs": [
    {
     "data": {
      "text/plain": [
       "{'source': 'https://www.moneycontrol.com/news/india/severe-weather-alert-heavy-rains-to-hit-eight-states-until-august-3-delhi-on-yellow-alert-12780337.html'}"
      ]
     },
     "execution_count": 37,
     "metadata": {},
     "output_type": "execute_result"
    }
   ],
   "source": [
    "data[0].metadata "
   ]
  },
  {
   "cell_type": "code",
   "execution_count": 55,
   "metadata": {},
   "outputs": [],
   "source": [
    "## Text splitiing\n",
    "# Character Text splitter\n",
    "#Recursive Text splitter\n",
    "# We use this that any llm has token limit\n",
    "# merged splitws\n",
    "#overlap chunks\n",
    "text='''Interstellar is a 2014 epic science fiction drama film directed by Christopher Nolan, who co-wrote the screenplay with his brother Jonathan. It stars Matthew McConaughey, Anne Hathaway, Jessica Chastain, Bill Irwin, Ellen Burstyn, Matt Damon, and Michael Caine. Set in a dystopian future where Earth is suffering from catastrophic blight and famine, the film follows a group of astronauts who travel through a wormhole near Saturn in search of a new home for humankind.\n",
    "\n",
    "The screenplay had its origins in a script Jonathan developed in 2007, and was originally set to be directed by Steven Spielberg. Theoretical physicist Kip Thorne was an executive producer and scientific consultant on the film, and wrote the tie-in book The Science of Interstellar. Cinematographer Hoyte van Hoytema shot it on 35 mm movie film in the Panavision anamorphic format and IMAX 70 mm. Filming began in late 2013 and took place in Alberta, Klaustur, and Los Angeles. Interstellar uses extensive practical and miniature effects, and the company DNEG created additional digital effects.\n",
    "\n",
    "Interstellar premiered in Los Angeles on October 26, 2014. In the United States, it was first released on film stock, expanding to venues using digital projectors. The film received positive reviews from critics and grossed over $681 million worldwide ($705 million after subsequent re-releases), making it the tenth-highest-grossing film of 2014. Thorne's computer-generated depiction of a black hole in the film has also received commendation from astronomers and physicists.[4][5][6] Interstellar was nominated for five awards at the 87th Academy Awards, winning Best Visual Effects, and received numerous other accolades. '''"
   ]
  },
  {
   "cell_type": "code",
   "execution_count": 56,
   "metadata": {},
   "outputs": [
    {
     "name": "stderr",
     "output_type": "stream",
     "text": [
      "Created a chunk of size 469, which is longer than the specified 200\n",
      "Created a chunk of size 595, which is longer than the specified 200\n"
     ]
    },
    {
     "data": {
      "text/plain": [
       "3"
      ]
     },
     "execution_count": 56,
     "metadata": {},
     "output_type": "execute_result"
    }
   ],
   "source": [
    "from langchain.text_splitter import CharacterTextSplitter\n",
    "\n",
    "splitters=CharacterTextSplitter (\n",
    "    separator = '\\n',\n",
    "    chunk_size=200,\n",
    "    chunk_overlap=0\n",
    ")\n",
    "chunks=splitters.split_text(text)\n",
    "len(chunks)\n"
   ]
  },
  {
   "cell_type": "code",
   "execution_count": 57,
   "metadata": {},
   "outputs": [
    {
     "data": {
      "text/plain": [
       "['Interstellar is a 2014 epic science fiction drama film directed by Christopher Nolan, who co-wrote the screenplay with his brother Jonathan. It stars Matthew McConaughey, Anne Hathaway, Jessica Chastain, Bill Irwin, Ellen Burstyn, Matt Damon, and Michael Caine. Set in a dystopian future where Earth is suffering from catastrophic blight and famine, the film follows a group of astronauts who travel through a wormhole near Saturn in search of a new home for humankind.',\n",
       " 'The screenplay had its origins in a script Jonathan developed in 2007, and was originally set to be directed by Steven Spielberg. Theoretical physicist Kip Thorne was an executive producer and scientific consultant on the film, and wrote the tie-in book The Science of Interstellar. Cinematographer Hoyte van Hoytema shot it on 35 mm movie film in the Panavision anamorphic format and IMAX 70 mm. Filming began in late 2013 and took place in Alberta, Klaustur, and Los Angeles. Interstellar uses extensive practical and miniature effects, and the company DNEG created additional digital effects.',\n",
       " \"Interstellar premiered in Los Angeles on October 26, 2014. In the United States, it was first released on film stock, expanding to venues using digital projectors. The film received positive reviews from critics and grossed over $681 million worldwide ($705 million after subsequent re-releases), making it the tenth-highest-grossing film of 2014. Thorne's computer-generated depiction of a black hole in the film has also received commendation from astronomers and physicists.[4][5][6] Interstellar was nominated for five awards at the 87th Academy Awards, winning Best Visual Effects, and received numerous other accolades.\"]"
      ]
     },
     "execution_count": 57,
     "metadata": {},
     "output_type": "execute_result"
    }
   ],
   "source": [
    "chunks"
   ]
  },
  {
   "cell_type": "code",
   "execution_count": 58,
   "metadata": {},
   "outputs": [
    {
     "data": {
      "text/plain": [
       "13"
      ]
     },
     "execution_count": 58,
     "metadata": {},
     "output_type": "execute_result"
    }
   ],
   "source": [
    "from langchain.text_splitter import RecursiveCharacterTextSplitter\n",
    "r_splitters=RecursiveCharacterTextSplitter(\n",
    "    separators=[\"\\n\\n\",\"\\n\",\".\",\" \"], # internally it first use double \\n and if it is more than chunk size it than use single \\n and the process will continue.\n",
    "    chunk_size=200,\n",
    "    chunk_overlap=0\n",
    ")\n",
    "chunks = r_splitters.split_text(text)\n",
    "len(chunks)"
   ]
  },
  {
   "cell_type": "code",
   "execution_count": 59,
   "metadata": {},
   "outputs": [
    {
     "data": {
      "text/plain": [
       "['Interstellar is a 2014 epic science fiction drama film directed by Christopher Nolan, who co-wrote the screenplay with his brother Jonathan',\n",
       " '. It stars Matthew McConaughey, Anne Hathaway, Jessica Chastain, Bill Irwin, Ellen Burstyn, Matt Damon, and Michael Caine',\n",
       " '. Set in a dystopian future where Earth is suffering from catastrophic blight and famine, the film follows a group of astronauts who travel through a wormhole near Saturn in search of a new home for',\n",
       " 'humankind',\n",
       " '.',\n",
       " 'The screenplay had its origins in a script Jonathan developed in 2007, and was originally set to be directed by Steven Spielberg',\n",
       " '. Theoretical physicist Kip Thorne was an executive producer and scientific consultant on the film, and wrote the tie-in book The Science of Interstellar',\n",
       " '. Cinematographer Hoyte van Hoytema shot it on 35 mm movie film in the Panavision anamorphic format and IMAX 70 mm. Filming began in late 2013 and took place in Alberta, Klaustur, and Los Angeles',\n",
       " '. Interstellar uses extensive practical and miniature effects, and the company DNEG created additional digital effects.',\n",
       " 'Interstellar premiered in Los Angeles on October 26, 2014. In the United States, it was first released on film stock, expanding to venues using digital projectors',\n",
       " '. The film received positive reviews from critics and grossed over $681 million worldwide ($705 million after subsequent re-releases), making it the tenth-highest-grossing film of 2014',\n",
       " \". Thorne's computer-generated depiction of a black hole in the film has also received commendation from astronomers and physicists\",\n",
       " '.[4][5][6] Interstellar was nominated for five awards at the 87th Academy Awards, winning Best Visual Effects, and received numerous other accolades.']"
      ]
     },
     "execution_count": 59,
     "metadata": {},
     "output_type": "execute_result"
    }
   ],
   "source": [
    "chunks"
   ]
  },
  {
   "cell_type": "code",
   "execution_count": 60,
   "metadata": {},
   "outputs": [
    {
     "name": "stdout",
     "output_type": "stream",
     "text": [
      "139\n",
      "121\n",
      "198\n",
      "9\n",
      "1\n",
      "128\n",
      "153\n",
      "195\n",
      "119\n",
      "162\n",
      "184\n",
      "130\n",
      "149\n"
     ]
    }
   ],
   "source": [
    "for c in chunks:\n",
    "    print(len(c))"
   ]
  },
  {
   "cell_type": "code",
   "execution_count": null,
   "metadata": {},
   "outputs": [],
   "source": [
    "# Vector Databases "
   ]
  }
 ],
 "metadata": {
  "kernelspec": {
   "display_name": "venv",
   "language": "python",
   "name": "python3"
  },
  "language_info": {
   "codemirror_mode": {
    "name": "ipython",
    "version": 3
   },
   "file_extension": ".py",
   "mimetype": "text/x-python",
   "name": "python",
   "nbconvert_exporter": "python",
   "pygments_lexer": "ipython3",
   "version": "3.12.4"
  }
 },
 "nbformat": 4,
 "nbformat_minor": 2
}
