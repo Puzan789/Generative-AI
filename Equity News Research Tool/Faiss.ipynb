{
 "cells": [
  {
   "cell_type": "code",
   "execution_count": 78,
   "metadata": {},
   "outputs": [],
   "source": [
    "import pandas as pd\n",
    "pd.set_option('display.max_colwidth',100)\n",
    "import tensorflow as tf\n",
    "import tensorflow_hub as hub\n",
    "\n",
    "# Load the Universal Sentence Encoder model\n",
    "model_url = \"https://tfhub.dev/google/universal-sentence-encoder/4\"\n",
    "embed = hub.load(model_url)\n",
    "# List of sentences"
   ]
  },
  {
   "cell_type": "code",
   "execution_count": 79,
   "metadata": {},
   "outputs": [],
   "source": [
    "df=pd.read_csv('movies.csv',sep=';')"
   ]
  },
  {
   "cell_type": "code",
   "execution_count": 80,
   "metadata": {},
   "outputs": [
    {
     "data": {
      "text/html": [
       "<div>\n",
       "<style scoped>\n",
       "    .dataframe tbody tr th:only-of-type {\n",
       "        vertical-align: middle;\n",
       "    }\n",
       "\n",
       "    .dataframe tbody tr th {\n",
       "        vertical-align: top;\n",
       "    }\n",
       "\n",
       "    .dataframe thead th {\n",
       "        text-align: right;\n",
       "    }\n",
       "</style>\n",
       "<table border=\"1\" class=\"dataframe\">\n",
       "  <thead>\n",
       "    <tr style=\"text-align: right;\">\n",
       "      <th></th>\n",
       "      <th>text</th>\n",
       "      <th>label</th>\n",
       "    </tr>\n",
       "  </thead>\n",
       "  <tbody>\n",
       "    <tr>\n",
       "      <th>0</th>\n",
       "      <td>i didnt feel humiliated</td>\n",
       "      <td>sadness</td>\n",
       "    </tr>\n",
       "    <tr>\n",
       "      <th>1</th>\n",
       "      <td>i can go from feeling so hopeless to so damned hopeful just from being around someone who cares ...</td>\n",
       "      <td>sadness</td>\n",
       "    </tr>\n",
       "    <tr>\n",
       "      <th>2</th>\n",
       "      <td>im grabbing a minute to post i feel greedy wrong</td>\n",
       "      <td>anger</td>\n",
       "    </tr>\n",
       "    <tr>\n",
       "      <th>3</th>\n",
       "      <td>i am ever feeling nostalgic about the fireplace i will know that it is still on the property</td>\n",
       "      <td>love</td>\n",
       "    </tr>\n",
       "    <tr>\n",
       "      <th>4</th>\n",
       "      <td>i am feeling grouchy</td>\n",
       "      <td>anger</td>\n",
       "    </tr>\n",
       "    <tr>\n",
       "      <th>...</th>\n",
       "      <td>...</td>\n",
       "      <td>...</td>\n",
       "    </tr>\n",
       "    <tr>\n",
       "      <th>15995</th>\n",
       "      <td>i just had a very brief time in the beanbag and i said to anna that i feel like i have been beat...</td>\n",
       "      <td>sadness</td>\n",
       "    </tr>\n",
       "    <tr>\n",
       "      <th>15996</th>\n",
       "      <td>i am now turning and i feel pathetic that i am still waiting tables and subbing with a teaching ...</td>\n",
       "      <td>sadness</td>\n",
       "    </tr>\n",
       "    <tr>\n",
       "      <th>15997</th>\n",
       "      <td>i feel strong and good overall</td>\n",
       "      <td>joy</td>\n",
       "    </tr>\n",
       "    <tr>\n",
       "      <th>15998</th>\n",
       "      <td>i feel like this was such a rude comment and im glad that t</td>\n",
       "      <td>anger</td>\n",
       "    </tr>\n",
       "    <tr>\n",
       "      <th>15999</th>\n",
       "      <td>i know a lot but i feel so stupid because i can not portray it</td>\n",
       "      <td>sadness</td>\n",
       "    </tr>\n",
       "  </tbody>\n",
       "</table>\n",
       "<p>16000 rows × 2 columns</p>\n",
       "</div>"
      ],
      "text/plain": [
       "                                                                                                      text  \\\n",
       "0                                                                                  i didnt feel humiliated   \n",
       "1      i can go from feeling so hopeless to so damned hopeful just from being around someone who cares ...   \n",
       "2                                                         im grabbing a minute to post i feel greedy wrong   \n",
       "3             i am ever feeling nostalgic about the fireplace i will know that it is still on the property   \n",
       "4                                                                                     i am feeling grouchy   \n",
       "...                                                                                                    ...   \n",
       "15995  i just had a very brief time in the beanbag and i said to anna that i feel like i have been beat...   \n",
       "15996  i am now turning and i feel pathetic that i am still waiting tables and subbing with a teaching ...   \n",
       "15997                                                                       i feel strong and good overall   \n",
       "15998                                          i feel like this was such a rude comment and im glad that t   \n",
       "15999                                       i know a lot but i feel so stupid because i can not portray it   \n",
       "\n",
       "         label  \n",
       "0      sadness  \n",
       "1      sadness  \n",
       "2        anger  \n",
       "3         love  \n",
       "4        anger  \n",
       "...        ...  \n",
       "15995  sadness  \n",
       "15996  sadness  \n",
       "15997      joy  \n",
       "15998    anger  \n",
       "15999  sadness  \n",
       "\n",
       "[16000 rows x 2 columns]"
      ]
     },
     "execution_count": 80,
     "metadata": {},
     "output_type": "execute_result"
    }
   ],
   "source": [
    "df"
   ]
  },
  {
   "cell_type": "code",
   "execution_count": 36,
   "metadata": {},
   "outputs": [],
   "source": [
    "# sentence piece transformers not working"
   ]
  },
  {
   "cell_type": "code",
   "execution_count": 47,
   "metadata": {},
   "outputs": [
    {
     "data": {
      "text/plain": [
       "0      sadness\n",
       "1      sadness\n",
       "2        anger\n",
       "3         love\n",
       "4        anger\n",
       "5      sadness\n",
       "6     surprise\n",
       "7         fear\n",
       "8          joy\n",
       "9         love\n",
       "10     sadness\n",
       "11         joy\n",
       "Name: label, dtype: object"
      ]
     },
     "execution_count": 47,
     "metadata": {},
     "output_type": "execute_result"
    }
   ],
   "source": [
    "df.label"
   ]
  },
  {
   "cell_type": "code",
   "execution_count": 81,
   "metadata": {},
   "outputs": [
    {
     "name": "stdout",
     "output_type": "stream",
     "text": [
      "[[-0.07612675  0.05169338 -0.04448839 ... -0.03655213  0.02639799\n",
      "  -0.04209598]\n",
      " [-0.00037339 -0.07363009 -0.06127917 ...  0.0458386  -0.02926714\n",
      "   0.04867256]\n",
      " [ 0.00608008 -0.04115541  0.03326916 ... -0.00403774 -0.04005855\n",
      "   0.048221  ]\n",
      " ...\n",
      " [-0.06014417 -0.02979074 -0.00866889 ...  0.01569857  0.00458703\n",
      "  -0.03377096]\n",
      " [ 0.0219196   0.07054035  0.03247572 ... -0.00276038 -0.03022943\n",
      "   0.03450019]\n",
      " [-0.01201028  0.01569489  0.02039644 ... -0.08011199  0.03119087\n",
      "   0.03025111]]\n"
     ]
    }
   ],
   "source": [
    "\n",
    "\n",
    "\n",
    "# Generate embeddings\n",
    "sentence_embeddings = embed(df.text)\n",
    "\n",
    "# Convert the embeddings to numpy array and display\n",
    "sentence_embeddings\n",
    "embeddings_np = sentence_embeddings.numpy()\n",
    "print(embeddings_np)"
   ]
  },
  {
   "cell_type": "code",
   "execution_count": 82,
   "metadata": {},
   "outputs": [],
   "source": [
    "\n",
    "# Generate embeddings\n",
    "sentence_embeddings = embed(df.text)\n",
    "\n",
    "# Convert the embeddings to numpy array and display\n",
    "\n"
   ]
  },
  {
   "cell_type": "code",
   "execution_count": 83,
   "metadata": {},
   "outputs": [
    {
     "name": "stdout",
     "output_type": "stream",
     "text": [
      "[[-0.07612675  0.05169338 -0.04448839 ... -0.03655213  0.02639799\n",
      "  -0.04209598]\n",
      " [-0.00037339 -0.07363009 -0.06127917 ...  0.0458386  -0.02926714\n",
      "   0.04867256]\n",
      " [ 0.00608008 -0.04115541  0.03326916 ... -0.00403774 -0.04005855\n",
      "   0.048221  ]\n",
      " ...\n",
      " [-0.06014417 -0.02979074 -0.00866889 ...  0.01569857  0.00458703\n",
      "  -0.03377096]\n",
      " [ 0.0219196   0.07054035  0.03247572 ... -0.00276038 -0.03022943\n",
      "   0.03450019]\n",
      " [-0.01201028  0.01569489  0.02039644 ... -0.08011199  0.03119087\n",
      "   0.03025111]]\n"
     ]
    }
   ],
   "source": [
    "sentence_embeddings\n",
    "embeddings_np = sentence_embeddings.numpy()\n",
    "print(embeddings_np)"
   ]
  },
  {
   "cell_type": "code",
   "execution_count": 84,
   "metadata": {},
   "outputs": [
    {
     "data": {
      "text/plain": [
       "(16000, 512)"
      ]
     },
     "execution_count": 84,
     "metadata": {},
     "output_type": "execute_result"
    }
   ],
   "source": [
    "embeddings_np .shape"
   ]
  },
  {
   "cell_type": "code",
   "execution_count": 91,
   "metadata": {},
   "outputs": [
    {
     "data": {
      "text/plain": [
       "array([[-0.07612675,  0.05169338, -0.04448839, ..., -0.03655213,\n",
       "         0.02639799, -0.04209598],\n",
       "       [-0.00037339, -0.07363009, -0.06127917, ...,  0.0458386 ,\n",
       "        -0.02926714,  0.04867256],\n",
       "       [ 0.00608008, -0.04115541,  0.03326916, ..., -0.00403774,\n",
       "        -0.04005855,  0.048221  ],\n",
       "       ...,\n",
       "       [-0.06014417, -0.02979074, -0.00866889, ...,  0.01569857,\n",
       "         0.00458703, -0.03377096],\n",
       "       [ 0.0219196 ,  0.07054035,  0.03247572, ..., -0.00276038,\n",
       "        -0.03022943,  0.03450019],\n",
       "       [-0.01201028,  0.01569489,  0.02039644, ..., -0.08011199,\n",
       "         0.03119087,  0.03025111]], dtype=float32)"
      ]
     },
     "execution_count": 91,
     "metadata": {},
     "output_type": "execute_result"
    }
   ],
   "source": [
    "embeddings_np"
   ]
  },
  {
   "cell_type": "code",
   "execution_count": 92,
   "metadata": {},
   "outputs": [],
   "source": [
    "dim=embeddings_np.shape[1]"
   ]
  },
  {
   "cell_type": "code",
   "execution_count": 93,
   "metadata": {},
   "outputs": [],
   "source": [
    "import faiss\n",
    "index=faiss.IndexFlatL2(dim)"
   ]
  },
  {
   "cell_type": "code",
   "execution_count": 94,
   "metadata": {},
   "outputs": [],
   "source": [
    "index.add(embeddings_np)"
   ]
  },
  {
   "cell_type": "code",
   "execution_count": 95,
   "metadata": {},
   "outputs": [],
   "source": [
    "search_query=[\"I want to kill all the person in the world\"]\n",
    "vec=embed(search_query)\n",
    "vec=vec.numpy()#we want dimension 1,512"
   ]
  },
  {
   "cell_type": "code",
   "execution_count": 96,
   "metadata": {},
   "outputs": [
    {
     "data": {
      "text/plain": [
       "(1, 512)"
      ]
     },
     "execution_count": 96,
     "metadata": {},
     "output_type": "execute_result"
    }
   ],
   "source": [
    "vec.shape"
   ]
  },
  {
   "cell_type": "code",
   "execution_count": 97,
   "metadata": {},
   "outputs": [],
   "source": [
    "distances,i=index.search(vec,k=2)# first one is the distances and second one is the array index"
   ]
  },
  {
   "cell_type": "code",
   "execution_count": 99,
   "metadata": {},
   "outputs": [
    {
     "data": {
      "text/html": [
       "<div>\n",
       "<style scoped>\n",
       "    .dataframe tbody tr th:only-of-type {\n",
       "        vertical-align: middle;\n",
       "    }\n",
       "\n",
       "    .dataframe tbody tr th {\n",
       "        vertical-align: top;\n",
       "    }\n",
       "\n",
       "    .dataframe thead th {\n",
       "        text-align: right;\n",
       "    }\n",
       "</style>\n",
       "<table border=\"1\" class=\"dataframe\">\n",
       "  <thead>\n",
       "    <tr style=\"text-align: right;\">\n",
       "      <th></th>\n",
       "      <th>text</th>\n",
       "      <th>label</th>\n",
       "    </tr>\n",
       "  </thead>\n",
       "  <tbody>\n",
       "    <tr>\n",
       "      <th>13476</th>\n",
       "      <td>i feel violent wanna kill someone anyone or kiss them</td>\n",
       "      <td>anger</td>\n",
       "    </tr>\n",
       "    <tr>\n",
       "      <th>4527</th>\n",
       "      <td>i feel threatened by anyone i get this feeling that i want to kill someone</td>\n",
       "      <td>fear</td>\n",
       "    </tr>\n",
       "  </tbody>\n",
       "</table>\n",
       "</div>"
      ],
      "text/plain": [
       "                                                                             text  \\\n",
       "13476                       i feel violent wanna kill someone anyone or kiss them   \n",
       "4527   i feel threatened by anyone i get this feeling that i want to kill someone   \n",
       "\n",
       "       label  \n",
       "13476  anger  \n",
       "4527    fear  "
      ]
     },
     "execution_count": 99,
     "metadata": {},
     "output_type": "execute_result"
    }
   ],
   "source": [
    "df.loc[i[0]]"
   ]
  },
  {
   "cell_type": "code",
   "execution_count": 100,
   "metadata": {},
   "outputs": [
    {
     "data": {
      "text/plain": [
       "['I want to kill all the person in the world']"
      ]
     },
     "execution_count": 100,
     "metadata": {},
     "output_type": "execute_result"
    }
   ],
   "source": [
    "search_query "
   ]
  },
  {
   "cell_type": "code",
   "execution_count": 101,
   "metadata": {},
   "outputs": [
    {
     "data": {
      "text/html": [
       "<div>\n",
       "<style scoped>\n",
       "    .dataframe tbody tr th:only-of-type {\n",
       "        vertical-align: middle;\n",
       "    }\n",
       "\n",
       "    .dataframe tbody tr th {\n",
       "        vertical-align: top;\n",
       "    }\n",
       "\n",
       "    .dataframe thead th {\n",
       "        text-align: right;\n",
       "    }\n",
       "</style>\n",
       "<table border=\"1\" class=\"dataframe\">\n",
       "  <thead>\n",
       "    <tr style=\"text-align: right;\">\n",
       "      <th></th>\n",
       "      <th>text</th>\n",
       "      <th>label</th>\n",
       "    </tr>\n",
       "  </thead>\n",
       "  <tbody>\n",
       "    <tr>\n",
       "      <th>8693</th>\n",
       "      <td>i feel amazing doctor</td>\n",
       "      <td>surprise</td>\n",
       "    </tr>\n",
       "    <tr>\n",
       "      <th>14488</th>\n",
       "      <td>i feel very valued by my patients</td>\n",
       "      <td>joy</td>\n",
       "    </tr>\n",
       "  </tbody>\n",
       "</table>\n",
       "</div>"
      ],
      "text/plain": [
       "                                    text     label\n",
       "8693               i feel amazing doctor  surprise\n",
       "14488  i feel very valued by my patients       joy"
      ]
     },
     "execution_count": 101,
     "metadata": {},
     "output_type": "execute_result"
    }
   ],
   "source": [
    "search_query=[\"A doctor is very kind person and also them is helpful\"]\n",
    "vec=embed(search_query)\n",
    "vec=vec.numpy()#we want dimension 1,512\n",
    "distances,i=index.search(vec,k=2)# first one is the distances and second one is the array index\n",
    "df.loc[i[0]]"
   ]
  },
  {
   "cell_type": "code",
   "execution_count": 106,
   "metadata": {},
   "outputs": [
    {
     "data": {
      "text/html": [
       "<div>\n",
       "<style scoped>\n",
       "    .dataframe tbody tr th:only-of-type {\n",
       "        vertical-align: middle;\n",
       "    }\n",
       "\n",
       "    .dataframe tbody tr th {\n",
       "        vertical-align: top;\n",
       "    }\n",
       "\n",
       "    .dataframe thead th {\n",
       "        text-align: right;\n",
       "    }\n",
       "</style>\n",
       "<table border=\"1\" class=\"dataframe\">\n",
       "  <thead>\n",
       "    <tr style=\"text-align: right;\">\n",
       "      <th></th>\n",
       "      <th>text</th>\n",
       "      <th>label</th>\n",
       "    </tr>\n",
       "  </thead>\n",
       "  <tbody>\n",
       "    <tr>\n",
       "      <th>4525</th>\n",
       "      <td>i feel like i am the only person who is not ecstatic to be here right now</td>\n",
       "      <td>joy</td>\n",
       "    </tr>\n",
       "    <tr>\n",
       "      <th>2355</th>\n",
       "      <td>i feel like i am not alone</td>\n",
       "      <td>sadness</td>\n",
       "    </tr>\n",
       "  </tbody>\n",
       "</table>\n",
       "</div>"
      ],
      "text/plain": [
       "                                                                           text  \\\n",
       "4525  i feel like i am the only person who is not ecstatic to be here right now   \n",
       "2355                                                 i feel like i am not alone   \n",
       "\n",
       "        label  \n",
       "4525      joy  \n",
       "2355  sadness  "
      ]
     },
     "execution_count": 106,
     "metadata": {},
     "output_type": "execute_result"
    }
   ],
   "source": [
    "search_query=[\"We are in the same boat wherever we  going to\"]\n",
    "vec=embed(search_query)\n",
    "vec=vec.numpy()#we want dimension 1,512\n",
    "distances,i=index.search(vec,k=2)# first one is the distances and second one is the array index\n",
    "df.loc[i[0]]"
   ]
  },
  {
   "cell_type": "code",
   "execution_count": 108,
   "metadata": {},
   "outputs": [],
   "source": [
    "# Above we are doing stuff Method"
   ]
  },
  {
   "cell_type": "code",
   "execution_count": null,
   "metadata": {},
   "outputs": [],
   "source": [
    "# Map reduce method  (In this methid we call individual llm to chunks)"
   ]
  },
  {
   "cell_type": "code",
   "execution_count": 107,
   "metadata": {},
   "outputs": [],
   "source": [
    "# RetrievalQAwithSOurcesChain"
   ]
  },
  {
   "cell_type": "code",
   "execution_count": null,
   "metadata": {},
   "outputs": [],
   "source": []
  }
 ],
 "metadata": {
  "kernelspec": {
   "display_name": "venv",
   "language": "python",
   "name": "python3"
  },
  "language_info": {
   "codemirror_mode": {
    "name": "ipython",
    "version": 3
   },
   "file_extension": ".py",
   "mimetype": "text/x-python",
   "name": "python",
   "nbconvert_exporter": "python",
   "pygments_lexer": "ipython3",
   "version": "3.12.4"
  }
 },
 "nbformat": 4,
 "nbformat_minor": 2
}
