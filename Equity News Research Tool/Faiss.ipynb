{
 "cells": [
  {
   "cell_type": "code",
   "execution_count": 6,
   "metadata": {},
   "outputs": [],
   "source": [
    "import pandas as pd\n",
    "pd.set_option('display.max_colwidth',100)"
   ]
  },
  {
   "cell_type": "code",
   "execution_count": 7,
   "metadata": {},
   "outputs": [],
   "source": [
    "df=pd.read_csv('new.csv')"
   ]
  },
  {
   "cell_type": "code",
   "execution_count": 8,
   "metadata": {},
   "outputs": [
    {
     "data": {
      "text/html": [
       "<div>\n",
       "<style scoped>\n",
       "    .dataframe tbody tr th:only-of-type {\n",
       "        vertical-align: middle;\n",
       "    }\n",
       "\n",
       "    .dataframe tbody tr th {\n",
       "        vertical-align: top;\n",
       "    }\n",
       "\n",
       "    .dataframe thead th {\n",
       "        text-align: right;\n",
       "    }\n",
       "</style>\n",
       "<table border=\"1\" class=\"dataframe\">\n",
       "  <thead>\n",
       "    <tr style=\"text-align: right;\">\n",
       "      <th></th>\n",
       "      <th>text</th>\n",
       "      <th>label</th>\n",
       "    </tr>\n",
       "  </thead>\n",
       "  <tbody>\n",
       "    <tr>\n",
       "      <th>0</th>\n",
       "      <td>Stuning even for the non-gamer: This sound track was beautiful! It paints the senery in your mi...</td>\n",
       "      <td>__label__2</td>\n",
       "    </tr>\n",
       "    <tr>\n",
       "      <th>1</th>\n",
       "      <td>The best soundtrack ever to anything.: I'm reading a lot of reviews saying that this is the bes...</td>\n",
       "      <td>__label__2</td>\n",
       "    </tr>\n",
       "    <tr>\n",
       "      <th>2</th>\n",
       "      <td>Amazing!: This soundtrack is my favorite music of all time, hands down. The intense sadness of ...</td>\n",
       "      <td>__label__2</td>\n",
       "    </tr>\n",
       "    <tr>\n",
       "      <th>3</th>\n",
       "      <td>Excellent Soundtrack: I truly like this soundtrack and I enjoy video game music. I have played ...</td>\n",
       "      <td>__label__2</td>\n",
       "    </tr>\n",
       "    <tr>\n",
       "      <th>4</th>\n",
       "      <td>Remember, Pull Your Jaw Off The Floor After Hearing it: If you've played the game, you know how...</td>\n",
       "      <td>__label__2</td>\n",
       "    </tr>\n",
       "    <tr>\n",
       "      <th>5</th>\n",
       "      <td>an absolute masterpiece: I am quite sure any of you actually taking the time to read this have ...</td>\n",
       "      <td>__label__2</td>\n",
       "    </tr>\n",
       "    <tr>\n",
       "      <th>6</th>\n",
       "      <td>Buyer beware: This is a self-published book, and if you want to know why--read a few paragraphs...</td>\n",
       "      <td>__label__1</td>\n",
       "    </tr>\n",
       "    <tr>\n",
       "      <th>7</th>\n",
       "      <td>Glorious story: I loved Whisper of the wicked saints. The story was amazing and I was pleasantl...</td>\n",
       "      <td>__label__2</td>\n",
       "    </tr>\n",
       "  </tbody>\n",
       "</table>\n",
       "</div>"
      ],
      "text/plain": [
       "                                                                                                  text  \\\n",
       "0   Stuning even for the non-gamer: This sound track was beautiful! It paints the senery in your mi...   \n",
       "1   The best soundtrack ever to anything.: I'm reading a lot of reviews saying that this is the bes...   \n",
       "2   Amazing!: This soundtrack is my favorite music of all time, hands down. The intense sadness of ...   \n",
       "3   Excellent Soundtrack: I truly like this soundtrack and I enjoy video game music. I have played ...   \n",
       "4   Remember, Pull Your Jaw Off The Floor After Hearing it: If you've played the game, you know how...   \n",
       "5   an absolute masterpiece: I am quite sure any of you actually taking the time to read this have ...   \n",
       "6   Buyer beware: This is a self-published book, and if you want to know why--read a few paragraphs...   \n",
       "7   Glorious story: I loved Whisper of the wicked saints. The story was amazing and I was pleasantl...   \n",
       "\n",
       "         label  \n",
       "0  __label__2   \n",
       "1  __label__2   \n",
       "2  __label__2   \n",
       "3  __label__2   \n",
       "4  __label__2   \n",
       "5  __label__2   \n",
       "6  __label__1   \n",
       "7  __label__2   "
      ]
     },
     "execution_count": 8,
     "metadata": {},
     "output_type": "execute_result"
    }
   ],
   "source": [
    "df"
   ]
  },
  {
   "cell_type": "code",
   "execution_count": 2,
   "metadata": {},
   "outputs": [],
   "source": [
    "# sentence piece transformers not working"
   ]
  },
  {
   "cell_type": "code",
   "execution_count": 9,
   "metadata": {},
   "outputs": [
    {
     "data": {
      "text/html": [
       "<div>\n",
       "<style scoped>\n",
       "    .dataframe tbody tr th:only-of-type {\n",
       "        vertical-align: middle;\n",
       "    }\n",
       "\n",
       "    .dataframe tbody tr th {\n",
       "        vertical-align: top;\n",
       "    }\n",
       "\n",
       "    .dataframe thead th {\n",
       "        text-align: right;\n",
       "    }\n",
       "</style>\n",
       "<table border=\"1\" class=\"dataframe\">\n",
       "  <thead>\n",
       "    <tr style=\"text-align: right;\">\n",
       "      <th></th>\n",
       "      <th>text</th>\n",
       "      <th>label</th>\n",
       "    </tr>\n",
       "  </thead>\n",
       "  <tbody>\n",
       "    <tr>\n",
       "      <th>0</th>\n",
       "      <td>Stuning even for the non-gamer: This sound track was beautiful! It paints the senery in your mi...</td>\n",
       "      <td>__label__2</td>\n",
       "    </tr>\n",
       "    <tr>\n",
       "      <th>1</th>\n",
       "      <td>The best soundtrack ever to anything.: I'm reading a lot of reviews saying that this is the bes...</td>\n",
       "      <td>__label__2</td>\n",
       "    </tr>\n",
       "    <tr>\n",
       "      <th>2</th>\n",
       "      <td>Amazing!: This soundtrack is my favorite music of all time, hands down. The intense sadness of ...</td>\n",
       "      <td>__label__2</td>\n",
       "    </tr>\n",
       "    <tr>\n",
       "      <th>3</th>\n",
       "      <td>Excellent Soundtrack: I truly like this soundtrack and I enjoy video game music. I have played ...</td>\n",
       "      <td>__label__2</td>\n",
       "    </tr>\n",
       "    <tr>\n",
       "      <th>4</th>\n",
       "      <td>Remember, Pull Your Jaw Off The Floor After Hearing it: If you've played the game, you know how...</td>\n",
       "      <td>__label__2</td>\n",
       "    </tr>\n",
       "    <tr>\n",
       "      <th>5</th>\n",
       "      <td>an absolute masterpiece: I am quite sure any of you actually taking the time to read this have ...</td>\n",
       "      <td>__label__2</td>\n",
       "    </tr>\n",
       "    <tr>\n",
       "      <th>6</th>\n",
       "      <td>Buyer beware: This is a self-published book, and if you want to know why--read a few paragraphs...</td>\n",
       "      <td>__label__1</td>\n",
       "    </tr>\n",
       "    <tr>\n",
       "      <th>7</th>\n",
       "      <td>Glorious story: I loved Whisper of the wicked saints. The story was amazing and I was pleasantl...</td>\n",
       "      <td>__label__2</td>\n",
       "    </tr>\n",
       "  </tbody>\n",
       "</table>\n",
       "</div>"
      ],
      "text/plain": [
       "                                                                                                  text  \\\n",
       "0   Stuning even for the non-gamer: This sound track was beautiful! It paints the senery in your mi...   \n",
       "1   The best soundtrack ever to anything.: I'm reading a lot of reviews saying that this is the bes...   \n",
       "2   Amazing!: This soundtrack is my favorite music of all time, hands down. The intense sadness of ...   \n",
       "3   Excellent Soundtrack: I truly like this soundtrack and I enjoy video game music. I have played ...   \n",
       "4   Remember, Pull Your Jaw Off The Floor After Hearing it: If you've played the game, you know how...   \n",
       "5   an absolute masterpiece: I am quite sure any of you actually taking the time to read this have ...   \n",
       "6   Buyer beware: This is a self-published book, and if you want to know why--read a few paragraphs...   \n",
       "7   Glorious story: I loved Whisper of the wicked saints. The story was amazing and I was pleasantl...   \n",
       "\n",
       "         label  \n",
       "0  __label__2   \n",
       "1  __label__2   \n",
       "2  __label__2   \n",
       "3  __label__2   \n",
       "4  __label__2   \n",
       "5  __label__2   \n",
       "6  __label__1   \n",
       "7  __label__2   "
      ]
     },
     "execution_count": 9,
     "metadata": {},
     "output_type": "execute_result"
    }
   ],
   "source": [
    "df"
   ]
  },
  {
   "cell_type": "code",
   "execution_count": 3,
   "metadata": {},
   "outputs": [
    {
     "name": "stdout",
     "output_type": "stream",
     "text": [
      "WARNING:tensorflow:From d:\\Generative AI\\venv\\Lib\\site-packages\\tf_keras\\src\\losses.py:2976: The name tf.losses.sparse_softmax_cross_entropy is deprecated. Please use tf.compat.v1.losses.sparse_softmax_cross_entropy instead.\n",
      "\n",
      "WARNING:tensorflow:From d:\\Generative AI\\venv\\Lib\\site-packages\\tensorflow_hub\\resolver.py:120: The name tf.gfile.MakeDirs is deprecated. Please use tf.io.gfile.makedirs instead.\n",
      "\n"
     ]
    },
    {
     "name": "stderr",
     "output_type": "stream",
     "text": [
      "WARNING:tensorflow:From d:\\Generative AI\\venv\\Lib\\site-packages\\tensorflow_hub\\resolver.py:120: The name tf.gfile.MakeDirs is deprecated. Please use tf.io.gfile.makedirs instead.\n",
      "\n"
     ]
    },
    {
     "name": "stdout",
     "output_type": "stream",
     "text": [
      "WARNING:tensorflow:From d:\\Generative AI\\venv\\Lib\\site-packages\\tensorflow_hub\\module_v2.py:126: The name tf.saved_model.load_v2 is deprecated. Please use tf.compat.v2.saved_model.load instead.\n",
      "\n"
     ]
    },
    {
     "name": "stderr",
     "output_type": "stream",
     "text": [
      "WARNING:tensorflow:From d:\\Generative AI\\venv\\Lib\\site-packages\\tensorflow_hub\\module_v2.py:126: The name tf.saved_model.load_v2 is deprecated. Please use tf.compat.v2.saved_model.load instead.\n",
      "\n"
     ]
    },
    {
     "name": "stdout",
     "output_type": "stream",
     "text": [
      "[[-0.03133017 -0.06338634 -0.01607501 ... -0.03242778 -0.04575741\n",
      "   0.05370456]\n",
      " [ 0.07413794 -0.07471067 -0.06249421 ...  0.00555952 -0.05825658\n",
      "  -0.03635284]\n",
      " [ 0.05219441 -0.05096672 -0.04069484 ...  0.01042969  0.03539472\n",
      "  -0.02689206]]\n"
     ]
    }
   ],
   "source": [
    "import tensorflow as tf\n",
    "import tensorflow_hub as hub\n",
    "\n",
    "# Load the Universal Sentence Encoder model\n",
    "model_url = \"https://tfhub.dev/google/universal-sentence-encoder/4\"\n",
    "embed = hub.load(model_url)\n",
    "# List of sentences\n",
    "\n"
   ]
  },
  {
   "cell_type": "code",
   "execution_count": 10,
   "metadata": {},
   "outputs": [],
   "source": [
    "\n",
    "# Generate embeddings\n",
    "sentence_embeddings = embed(df.text)\n",
    "\n",
    "# Convert the embeddings to numpy array and display\n"
   ]
  },
  {
   "cell_type": "code",
   "execution_count": 13,
   "metadata": {},
   "outputs": [
    {
     "name": "stdout",
     "output_type": "stream",
     "text": [
      "[[ 0.00186442  0.02592723  0.08755863 ... -0.03861223  0.0472854\n",
      "  -0.04513631]\n",
      " [-0.00484858 -0.04788116  0.09014706 ... -0.00902367  0.05905569\n",
      "  -0.01617374]\n",
      " [ 0.03504426 -0.03648442  0.07288124 ... -0.04003559  0.07233527\n",
      "  -0.0690518 ]\n",
      " ...\n",
      " [-0.01446382 -0.02273347  0.08245762 ... -0.03662466  0.06017849\n",
      "  -0.0648564 ]\n",
      " [-0.01186162  0.00633849  0.06479519 ... -0.01571961  0.09373888\n",
      "   0.03652187]\n",
      " [-0.00051331 -0.02217853  0.05372707 ... -0.04528188  0.08102649\n",
      "   0.04645773]]\n"
     ]
    }
   ],
   "source": [
    "sentence_embeddings\n",
    "embeddings_np = sentence_embeddings.numpy()\n",
    "print(embeddings_np)"
   ]
  },
  {
   "cell_type": "code",
   "execution_count": 15,
   "metadata": {},
   "outputs": [
    {
     "data": {
      "text/plain": [
       "(8, 512)"
      ]
     },
     "execution_count": 15,
     "metadata": {},
     "output_type": "execute_result"
    }
   ],
   "source": [
    "embeddings_np .shape"
   ]
  },
  {
   "cell_type": "code",
   "execution_count": 16,
   "metadata": {},
   "outputs": [
    {
     "data": {
      "text/plain": [
       "array([[ 0.00186442,  0.02592723,  0.08755863, ..., -0.03861223,\n",
       "         0.0472854 , -0.04513631],\n",
       "       [-0.00484858, -0.04788116,  0.09014706, ..., -0.00902367,\n",
       "         0.05905569, -0.01617374],\n",
       "       [ 0.03504426, -0.03648442,  0.07288124, ..., -0.04003559,\n",
       "         0.07233527, -0.0690518 ],\n",
       "       ...,\n",
       "       [-0.01446382, -0.02273347,  0.08245762, ..., -0.03662466,\n",
       "         0.06017849, -0.0648564 ],\n",
       "       [-0.01186162,  0.00633849,  0.06479519, ..., -0.01571961,\n",
       "         0.09373888,  0.03652187],\n",
       "       [-0.00051331, -0.02217853,  0.05372707, ..., -0.04528188,\n",
       "         0.08102649,  0.04645773]], dtype=float32)"
      ]
     },
     "execution_count": 16,
     "metadata": {},
     "output_type": "execute_result"
    }
   ],
   "source": [
    "embeddings_np"
   ]
  },
  {
   "cell_type": "code",
   "execution_count": 18,
   "metadata": {},
   "outputs": [],
   "source": [
    "dim=embeddings_np.shape[1]"
   ]
  },
  {
   "cell_type": "code",
   "execution_count": 19,
   "metadata": {},
   "outputs": [],
   "source": [
    "import faiss"
   ]
  },
  {
   "cell_type": "code",
   "execution_count": null,
   "metadata": {},
   "outputs": [],
   "source": [
    "|"
   ]
  }
 ],
 "metadata": {
  "kernelspec": {
   "display_name": "venv",
   "language": "python",
   "name": "python3"
  },
  "language_info": {
   "codemirror_mode": {
    "name": "ipython",
    "version": 3
   },
   "file_extension": ".py",
   "mimetype": "text/x-python",
   "name": "python",
   "nbconvert_exporter": "python",
   "pygments_lexer": "ipython3",
   "version": "3.12.4"
  }
 },
 "nbformat": 4,
 "nbformat_minor": 2
}
