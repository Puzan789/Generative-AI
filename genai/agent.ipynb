{
 "cells": [
  {
   "cell_type": "code",
   "execution_count": 18,
   "metadata": {},
   "outputs": [],
   "source": [
    "from langchain_community.chat_models import ChatOpenAI\n",
    "from langchain_google_genai import (\n",
    "    ChatGoogleGenerativeAI,\n",
    "    HarmBlockThreshold,\n",
    "    HarmCategory,\n",
    ")\n",
    "from langchain.agents import AgentType,initialize_agent,load_tools\n",
    "from langchain.prompts import PromptTemplate\n",
    "from langchain.chains import LLMChain\n",
    "import os\n",
    "from dotenv import load_dotenv\n",
    "\n",
    "load_dotenv()\n",
    "api_key = os.getenv(\"GOOGLE_API_KEY\")\n",
    "serp_api_key = os.getenv(\"SERP_API_KEY\")\n"
   ]
  },
  {
   "cell_type": "code",
   "execution_count": 14,
   "metadata": {},
   "outputs": [
    {
     "name": "stdout",
     "output_type": "stream",
     "text": [
      "\n",
      "\n",
      "\u001b[1m> Entering new AgentExecutor chain...\u001b[0m\n",
      "\u001b[32;1m\u001b[1;3mI know that Dr. Sanduk Ruit was born in 1954. To find his age in 2024, I need to subtract his birth year from 2024.\n",
      "Action: Calculator\n",
      "Action Input: 2024 - 1954\u001b[0m\n",
      "Observation: \u001b[33;1m\u001b[1;3mAnswer: 70\u001b[0m\n",
      "Thought:\u001b[32;1m\u001b[1;3mDr. Sanduk Ruit was born in 1954 and is currently 70 years old.\n",
      "Final Answer: 70\u001b[0m\n",
      "\n",
      "\u001b[1m> Finished chain.\u001b[0m\n"
     ]
    },
    {
     "data": {
      "text/plain": [
       "'70'"
      ]
     },
     "execution_count": 14,
     "metadata": {},
     "output_type": "execute_result"
    }
   ],
   "source": [
    "\n",
    "\n",
    "\n",
    "llm=ChatGoogleGenerativeAI(\n",
    "    model=\"gemini-pro\",\n",
    "    temperature=1,\n",
    "    google_api_key=api_key,\n",
    "    safety_settings={\n",
    "        HarmCategory.HARM_CATEGORY_DANGEROUS_CONTENT: HarmBlockThreshold.BLOCK_NONE,\n",
    "    },)\n",
    "\n",
    "tools=load_tools([\"wikipedia\",\"llm-math\"],llm=llm)\n",
    "agent=initialize_agent(\n",
    "    tools,\n",
    "    llm,\n",
    "    agent=AgentType.ZERO_SHOT_REACT_DESCRIPTION,# it means thought and action firstly it is thought and where to go action.\n",
    "    verbose=True,\n",
    "    handle_parsing_errors=True\n",
    ")\n",
    "agent.run(\"When was Dr.sanduk ruit born ? What is his age right nowin   2024\")\n"
   ]
  },
  {
   "cell_type": "code",
   "execution_count": 22,
   "metadata": {},
   "outputs": [
    {
     "name": "stdout",
     "output_type": "stream",
     "text": [
      "\n",
      "\n",
      "\u001b[1m> Entering new AgentExecutor chain...\u001b[0m\n",
      "\u001b[32;1m\u001b[1;3mI can use wikipedia to find the date of birth for Dr. Ruit and then calculate his age\n",
      "Action: wikipedia\n",
      "Action Input: Dr. Sanduk Ruit\u001b[0m\n",
      "Observation: \u001b[36;1m\u001b[1;3mPage: Sanduk Ruit\n",
      "Summary: Sanduk Ruit (Nepali: सन्दुक रूइत, pronounced [ˈsʌnduk rui̯t], born September 4, 1954) is an ophthalmologist (eye surgeon) from Nepal who was involved to restore the sight of over 180,000 people across Africa and Asia using small-incision cataract surgery.\n",
      "Ruit is the founder and the executive director of the Tilganga Institute of Ophthalmology, which manufactures intraocular lenses for surgical implantation at a fraction of the previous manufacturing cost. The low cost has made cataract surgeries slightly cheaper in Nepal.\n",
      "Ruit has been referred to as the \"God of Sight\".  He was awarded the Ramon Magsaysay Award for Peace and International Understanding, considered to be the Asian equivalent of the Nobel Prize, for \"placing Nepal at the forefront of developing safe, effective, and economical procedures for cataract surgery, enabling the needlessly blind in even the poorest countries to see again.\" He was awarded with the Isa award, the highest civilian award in Bahrain by the king of Bahrain for developing highly affordable and sustainable ways to cure cataracts throughout the developing world with a cash prize of 1 million dollars.\n",
      "\n",
      "Page: Himalayan Cataract Project\n",
      "Summary: The Himalayan Cataract Project (HCP) was created in 1995 by Dr. Geoffrey Tabin and Dr. Sanduk Ruit with a goal of establishing a sustainable eye care infrastructure in the Himalaya. HCP empowers local doctors to provide ophthalmic care through skills-transfer and education. From its beginning, HCP responds to a pressing need for eye care in the Himalayan region. With programs in Nepal, Ethiopia, Ghana, Bhutan and India they have been able to restore sight to over 1.4 million people since 1995.\n",
      "\n",
      "Page: Kathmandu\n",
      "Summary: Kathmandu, officially Kathmandu Metropolitan City, is the capital and most populous city of Nepal with 845,767 inhabitants living in 105,649 households as of the 2021 Nepal census and approximately 4 million people in its urban agglomeration. It is located in the Kathmandu Valley, a large valley in the high plateaus in central Nepal, at an altitude of 1,400 metres (4,600 feet).\n",
      "The city is one of the oldest continuously inhabited places in the world, founded in the 2nd century AD. The valley was historically called the \"Nepal Mandala\" and has been the home of the Newar people, a cosmopolitan urban civilization in the Himalayan foothills. The city was the royal capital of the Kingdom of Nepal and hosts palaces, mansions and gardens built by the Nepali aristocracy. It has been home to the headquarters of the South Asian Association for Regional Cooperation (SAARC) since 1985. Today, it is the seat of government of the Federal Democratic Republic of Nepal, established in 2008, and is part of Bagmati Province.\n",
      "Kathmandu is and has been for many years the centre of Nepal's history, art, culture, and economy. It has a multi-ethnic population within a Hindu and Buddhist majority. Religious and cultural festivities form a major part of the lives of people residing in Kathmandu. Tourism is an important part of the economy in the city. In 2013, Kathmandu was ranked third among the top ten upcoming travel destinations in the world by TripAdvisor, and ranked first in Asia. The city is considered the gateway to the Nepal Himalayas and is home to several World Heritage Sites: the Durbar Square, Swayambhu Mahachaitya, Bouddha and Pashupatinath. Kathmandu valley is growing at 4 per cent per year according to the World Bank in 2010, making it one of the fastest-growing metropolitan areas in South Asia, and the first region in Nepal to face the unprecedented challenges of rapid urbanization and modernization at a metropolitan scale. It is the largest metropolitan area located in the Himalayas. It is also home to a number of cultural heritage sites that have been identified as UNESCO World Heritage site.\u001b[0m\n",
      "Thought:\u001b[32;1m\u001b[1;3mI now know the final answer\n",
      "Final Answer: 70\u001b[0m\n",
      "\n",
      "\u001b[1m> Finished chain.\u001b[0m\n"
     ]
    },
    {
     "data": {
      "text/plain": [
       "'70'"
      ]
     },
     "execution_count": 22,
     "metadata": {},
     "output_type": "execute_result"
    }
   ],
   "source": [
    "# using serpapi\n",
    "agent=load_tools([\"serpapi\",\"llm-math\"],llm=llm,serpapi_api_key=serp_api_key)\n",
    "agent=initialize_agent(\n",
    "    tools,\n",
    "    llm,\n",
    "    agent=AgentType.ZERO_SHOT_REACT_DESCRIPTION,# it means thought and action firstly it is thought and where to go action.\n",
    "    verbose=True,\n",
    "    handle_parsing_errors=True,\n",
    ")\n",
    "agent.run(\"When was Dr.sanduk ruit born ? What is his age right nowin  2024\")"
   ]
  },
  {
   "cell_type": "code",
   "execution_count": 23,
   "metadata": {},
   "outputs": [
    {
     "name": "stdout",
     "output_type": "stream",
     "text": [
      "\n",
      "\n",
      "\u001b[1m> Entering new AgentExecutor chain...\u001b[0m\n",
      "\u001b[32;1m\u001b[1;3mWhen was this doctor born so I can calculate his age in 2024?\n",
      "Action: wikipedia\n",
      "Action Input: Dr.sanduk ruit\u001b[0m\n",
      "Observation: \u001b[36;1m\u001b[1;3mPage: Sanduk Ruit\n",
      "Summary: Sanduk Ruit (Nepali: सन्दुक रूइत, pronounced [ˈsʌnduk rui̯t], born September 4, 1954) is an ophthalmologist (eye surgeon) from Nepal who was involved to restore the sight of over 180,000 people across Africa and Asia using small-incision cataract surgery.\n",
      "Ruit is the founder and the executive director of the Tilganga Institute of Ophthalmology, which manufactures intraocular lenses for surgical implantation at a fraction of the previous manufacturing cost. The low cost has made cataract surgeries slightly cheaper in Nepal.\n",
      "Ruit has been referred to as the \"God of Sight\".  He was awarded the Ramon Magsaysay Award for Peace and International Understanding, considered to be the Asian equivalent of the Nobel Prize, for \"placing Nepal at the forefront of developing safe, effective, and economical procedures for cataract surgery, enabling the needlessly blind in even the poorest countries to see again.\" He was awarded with the Isa award, the highest civilian award in Bahrain by the king of Bahrain for developing highly affordable and sustainable ways to cure cataracts throughout the developing world with a cash prize of 1 million dollars.\n",
      "\n",
      "Page: Himalayan Cataract Project\n",
      "Summary: The Himalayan Cataract Project (HCP) was created in 1995 by Dr. Geoffrey Tabin and Dr. Sanduk Ruit with a goal of establishing a sustainable eye care infrastructure in the Himalaya. HCP empowers local doctors to provide ophthalmic care through skills-transfer and education. From its beginning, HCP responds to a pressing need for eye care in the Himalayan region. With programs in Nepal, Ethiopia, Ghana, Bhutan and India they have been able to restore sight to over 1.4 million people since 1995.\n",
      "\n",
      "Page: Kathmandu\n",
      "Summary: Kathmandu, officially Kathmandu Metropolitan City, is the capital and most populous city of Nepal with 845,767 inhabitants living in 105,649 households as of the 2021 Nepal census and approximately 4 million people in its urban agglomeration. It is located in the Kathmandu Valley, a large valley in the high plateaus in central Nepal, at an altitude of 1,400 metres (4,600 feet).\n",
      "The city is one of the oldest continuously inhabited places in the world, founded in the 2nd century AD. The valley was historically called the \"Nepal Mandala\" and has been the home of the Newar people, a cosmopolitan urban civilization in the Himalayan foothills. The city was the royal capital of the Kingdom of Nepal and hosts palaces, mansions and gardens built by the Nepali aristocracy. It has been home to the headquarters of the South Asian Association for Regional Cooperation (SAARC) since 1985. Today, it is the seat of government of the Federal Democratic Republic of Nepal, established in 2008, and is part of Bagmati Province.\n",
      "Kathmandu is and has been for many years the centre of Nepal's history, art, culture, and economy. It has a multi-ethnic population within a Hindu and Buddhist majority. Religious and cultural festivities form a major part of the lives of people residing in Kathmandu. Tourism is an important part of the economy in the city. In 2013, Kathmandu was ranked third among the top ten upcoming travel destinations in the world by TripAdvisor, and ranked first in Asia. The city is considered the gateway to the Nepal Himalayas and is home to several World Heritage Sites: the Durbar Square, Swayambhu Mahachaitya, Bouddha and Pashupatinath. Kathmandu valley is growing at 4 per cent per year according to the World Bank in 2010, making it one of the fastest-growing metropolitan areas in South Asia, and the first region in Nepal to face the unprecedented challenges of rapid urbanization and modernization at a metropolitan scale. It is the largest metropolitan area located in the Himalayas. It is also home to a number of cultural heritage sites that have been identified as UNESCO World Heritage site.\u001b[0m\n",
      "Thought:\u001b[32;1m\u001b[1;3mI know Dr.ruits birth date  so I can workout his age\n",
      "Action: Calculator\n",
      "Action Input: 2024-1954\u001b[0m\n",
      "Observation: \u001b[33;1m\u001b[1;3mAnswer: 70\u001b[0m\n",
      "Thought:\u001b[32;1m\u001b[1;3mI now know the final answer\n",
      "Final Answer: The answer is 70\u001b[0m\n",
      "\n",
      "\u001b[1m> Finished chain.\u001b[0m\n"
     ]
    },
    {
     "data": {
      "text/plain": [
       "'The answer is 70'"
      ]
     },
     "execution_count": 23,
     "metadata": {},
     "output_type": "execute_result"
    }
   ],
   "source": [
    "# using serpapi\n",
    "agent=load_tools([\"serpapi\"],llm=llm,serpapi_api_key=serp_api_key)\n",
    "agent=initialize_agent(\n",
    "    tools,\n",
    "    llm,\n",
    "    agent=AgentType.ZERO_SHOT_REACT_DESCRIPTION,# it means thought and action firstly it is thought and where to go action.\n",
    "    verbose=True,\n",
    "    handle_parsing_errors=True,\n",
    ")\n",
    "agent.run(\"When was Dr.sanduk ruit born ? What is his age right nowin  2024\")"
   ]
  },
  {
   "cell_type": "code",
   "execution_count": null,
   "metadata": {},
   "outputs": [],
   "source": []
  }
 ],
 "metadata": {
  "kernelspec": {
   "display_name": "venv",
   "language": "python",
   "name": "python3"
  },
  "language_info": {
   "codemirror_mode": {
    "name": "ipython",
    "version": 3
   },
   "file_extension": ".py",
   "mimetype": "text/x-python",
   "name": "python",
   "nbconvert_exporter": "python",
   "pygments_lexer": "ipython3",
   "version": "3.12.4"
  }
 },
 "nbformat": 4,
 "nbformat_minor": 2
}
