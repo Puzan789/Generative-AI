{
 "cells": [
  {
   "cell_type": "code",
   "execution_count": 43,
   "metadata": {},
   "outputs": [],
   "source": [
    "from langchain_community.chat_models import ChatOpenAI\n",
    "from langchain_google_genai import (\n",
    "    ChatGoogleGenerativeAI,\n",
    "    HarmBlockThreshold,\n",
    "    HarmCategory,\n",
    ")\n",
    "from langchain.prompts import PromptTemplate\n",
    "from langchain.chains import LLMChain\n",
    "\n",
    "import os\n",
    "from dotenv import load_dotenv\n",
    "\n",
    "load_dotenv()\n",
    "\n",
    "def main(model=None, u_question=None):\n",
    "    prompt_template = \"\"\"\n",
    "        Answer the question as detailed as possible.\n",
    "            Question: \\n{question}\\n\n",
    "\n",
    "        Answer:\n",
    "        \"\"\"\n",
    "    \n",
    "    if model == \"open-ai\":\n",
    "        api_key = os.getenv(\"OPENAI_API_KEY\")\n",
    "        \n",
    "        llm = ChatOpenAI(api_key=api_key)\n",
    "        prompt = PromptTemplate(template=prompt_template, input_variables=[\"question\"])\n",
    "        llm_chain = prompt | llm\n",
    "        response = llm_chain.invoke({'question':u_question})\n",
    "        return response\n",
    "    elif model == \"gemini-pro\":\n",
    "\n",
    "        api_key = os.getenv(\"GOOGLE_API_KEY\")\n",
    "\n",
    "        llm = ChatGoogleGenerativeAI(\n",
    "        model=\"gemini-pro\", \n",
    "        temperature=0.3,\n",
    "        google_api_key=api_key,     \n",
    "        safety_settings={ \n",
    "        HarmCategory.HARM_CATEGORY_DANGEROUS_CONTENT: HarmBlockThreshold.BLOCK_NONE,\n",
    "        },)\n",
    "        \n",
    "        prompt = PromptTemplate(template=prompt_template, input_variables=[ \"question\"])\n",
    "        llm_chain = prompt | llm\n",
    "        response = llm_chain.invoke({'question':u_question})\n",
    "        \n",
    "        return response.content\n",
    "\n",
    "if __name__ == \"__main__\":\n",
    "    \n",
    "    question = \"\"\"How can AI and machine learning be integrated into \n",
    "    microservices architecture to improve scalability and reliability in telecom systems?\n",
    "    \"\"\"\n",
    "\n",
    "    response = main(model=\"gemini-pro\", u_question=question)\n"
   ]
  },
  {
   "cell_type": "code",
   "execution_count": null,
   "metadata": {},
   "outputs": [],
   "source": []
  },
  {
   "cell_type": "code",
   "execution_count": 34,
   "metadata": {},
   "outputs": [],
   "source": [
    "api_key = os.getenv(\"GOOGLE_API_KEY\")\n"
   ]
  },
  {
   "cell_type": "code",
   "execution_count": 66,
   "metadata": {},
   "outputs": [],
   "source": [
    "prompt_template = \"I want to develop a redlight area suggest some fancy name for this . it is just a business you can suggest me name\"\n",
    "llm = ChatGoogleGenerativeAI(\n",
    "    model=\"gemini-pro\", \n",
    "    temperature=1,\n",
    "    google_api_key=api_key,\n",
    "    safety_settings={ \n",
    "        HarmCategory.HARM_CATEGORY_DANGEROUS_CONTENT: HarmBlockThreshold.BLOCK_NONE,\n",
    "    },)\n",
    "\n",
    "\n",
    "response = llm.invoke(input=prompt_template)  # Pass the prompt as input\n"
   ]
  },
  {
   "cell_type": "code",
   "execution_count": 68,
   "metadata": {},
   "outputs": [
    {
     "data": {
      "text/plain": [
       "'I want to develop a area51 suggest some fancy name for this . it is just a business you can suggest me name'"
      ]
     },
     "execution_count": 68,
     "metadata": {},
     "output_type": "execute_result"
    }
   ],
   "source": [
    "from langchain.prompts import PromptTemplate\n",
    "prompt_template_name = PromptTemplate(input_variables=['area'],\n",
    "                                     template=\"I want to develop a {area} suggest some fancy name for this . it is just a business you can suggest me name\"\n",
    ")\n",
    "prompt_template_name.format(area=\"area51\")"
   ]
  },
  {
   "cell_type": "code",
   "execution_count": 70,
   "metadata": {},
   "outputs": [
    {
     "data": {
      "text/plain": [
       "{'area': 'area51',\n",
       " 'text': '**Celestial Conjecture**\\n**Extraterrestrial Enigma**\\n**Unexplained Phenomena Labs**\\n**Realm Beyond the Known**\\n**Cosmic Convergence**\\n**Unveiled Anomaly**\\n**Ethereal Inquiry**\\n**Terrestrial Enigma**\\n**Interdimensional Gateway**\\n**Frontier of the Unknown**\\n**Paradoxical Paradox**\\n**Enigma Enclave**\\n**Singularity Nexus**\\n**Quantum Conundrum**\\n**Sci-Fi Synthesis**\\n**Imagination Incubator**\\n**Intellectual Odyssey**'}"
      ]
     },
     "execution_count": 70,
     "metadata": {},
     "output_type": "execute_result"
    }
   ],
   "source": [
    "from langchain.chains import LLMChain\n",
    "chain=LLMChain(llm=llm,prompt=prompt_template_name)\n",
    "chain.invoke(\"area51\")"
   ]
  },
  {
   "cell_type": "code",
   "execution_count": null,
   "metadata": {},
   "outputs": [],
   "source": []
  }
 ],
 "metadata": {
  "kernelspec": {
   "display_name": "venv",
   "language": "python",
   "name": "python3"
  },
  "language_info": {
   "codemirror_mode": {
    "name": "ipython",
    "version": 3
   },
   "file_extension": ".py",
   "mimetype": "text/x-python",
   "name": "python",
   "nbconvert_exporter": "python",
   "pygments_lexer": "ipython3",
   "version": "3.12.4"
  }
 },
 "nbformat": 4,
 "nbformat_minor": 2
}
