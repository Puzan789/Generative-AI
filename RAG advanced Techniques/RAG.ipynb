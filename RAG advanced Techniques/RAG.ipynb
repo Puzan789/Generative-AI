{
 "cells": [
  {
   "cell_type": "code",
   "execution_count": 6,
   "metadata": {},
   "outputs": [],
   "source": [
    "import os \n",
    "from dotenv import load_dotenv\n",
    "from langchain_community.vectorstores import Chroma\n",
    "from langchain_google_genai import ChatGoogleGenerativeAI\n",
    "load_dotenv()\n",
    "os.environ[\"GOOGLE_API_KEY\"]=os.getenv(\"GOOGLE_API_KEY\")\n",
    "from langchain_google_genai import GoogleGenerativeAIEmbeddings\n",
    "llm=ChatGoogleGenerativeAI(model=\"gemini-1.5-pro-latest\")\n",
    "import chromadb\n",
    "from chromadb.utils import embedding_functions\n",
    "\n"
   ]
  },
  {
   "cell_type": "code",
   "execution_count": 8,
   "metadata": {},
   "outputs": [],
   "source": [
    "embedding_f=embedding_functions.GoogleGenerativeAiEmbeddingFunction(\n",
    "\n",
    "    api_key=os.getenv(\"GOOGLE_API_KEY\"),\n",
    "    model_name=\"models/embedding-001\"\n",
    ")"
   ]
  },
  {
   "cell_type": "code",
   "execution_count": null,
   "metadata": {},
   "outputs": [],
   "source": [
    "# initialize the Chroma Client with persistance \n",
    "chroma_client=chromadb.PersistentClient(path=\"chroma_db_storage\")\n",
    "collection_name=\"document_qa_collection\"\n",
    "\n",
    "collection=chroma_client.get_or_create_collection(\n",
    "    name=collection_name,embedding_function=embedding_f\n",
    ")#"
   ]
  },
  {
   "cell_type": "code",
   "execution_count": 14,
   "metadata": {},
   "outputs": [],
   "source": [
    "messages = [\n",
    "    (\n",
    "        \"system\",\n",
    "        \"You are a helpful assistant that replies to user queries.\",\n",
    "    ),\n",
    "    (\"human\", \"What is a life expectancy of humans?\"),\n",
    "]\n",
    "response = llm.invoke(messages)\n"
   ]
  },
  {
   "cell_type": "code",
   "execution_count": null,
   "metadata": {},
   "outputs": [],
   "source": [
    "# splitting into chunks \n",
    "# embeddings \n",
    "# similarity search"
   ]
  }
 ],
 "metadata": {
  "kernelspec": {
   "display_name": "venv",
   "language": "python",
   "name": "python3"
  },
  "language_info": {
   "codemirror_mode": {
    "name": "ipython",
    "version": 3
   },
   "file_extension": ".py",
   "mimetype": "text/x-python",
   "name": "python",
   "nbconvert_exporter": "python",
   "pygments_lexer": "ipython3",
   "version": "3.12.4"
  }
 },
 "nbformat": 4,
 "nbformat_minor": 2
}
